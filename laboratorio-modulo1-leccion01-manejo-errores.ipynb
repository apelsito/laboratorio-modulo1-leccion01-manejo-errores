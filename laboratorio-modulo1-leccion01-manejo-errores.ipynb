{
 "cells": [
  {
   "cell_type": "markdown",
   "metadata": {},
   "source": [
    "\n",
    "<div style=\"text-align: center;\">\n",
    "  <img src=\"https://github.com/Hack-io-Data/Imagenes/blob/main/01-LogosHackio/logo_celeste@4x.png?raw=true\" alt=\"esquema\" />\n",
    "</div>\n"
   ]
  },
  {
   "cell_type": "markdown",
   "metadata": {},
   "source": [
    "# Laboratorio de Python: manejo de errores."
   ]
  },
  {
   "cell_type": "markdown",
   "metadata": {},
   "source": [
    "## Ejercicio 1: División con manejo de excepciones\n",
    "\n",
    "Escribe un programa que pida al usuario dos números e intente dividirlos. Si el usuario ingresa un valor no numérico o intenta dividir por cero, maneja esas excepciones de manera adecuada. Asegúrate de mostrar un mensaje indicando si la división fue exitosa o no.\n"
   ]
  },
  {
   "cell_type": "code",
   "execution_count": 8,
   "metadata": {},
   "outputs": [
    {
     "name": "stdout",
     "output_type": "stream",
     "text": [
      "Estas intentando dividir entre 0?, No se puede\n"
     ]
    }
   ],
   "source": [
    "numero1 = input(\"Ingresa el primer número: \")\n",
    "numero2 = input(\"Ingresa el segundo número: \")\n",
    "try:\n",
    "    division = int(numero1) / int(numero2)\n",
    "    print(f\"La división es: {division}\")\n",
    "except ValueError:\n",
    "    print(\"Has ingresado un valor no numérico\")\n",
    "except ZeroDivisionError:\n",
    "    print(\"Estas intentando dividir entre 0?, No se puede\")"
   ]
  },
  {
   "cell_type": "markdown",
   "metadata": {},
   "source": [
    "## Ejercicio 2: Acceso a archivos\n",
    "\n",
    "Escribe un programa que intente abrir un archivo llamado \"datos.txt\". Si el archivo no existe, captura la excepción y muestra un mensaje de error. Asegúrate de cerrar el archivo correctamente en la sección `finally`.\n"
   ]
  },
  {
   "cell_type": "code",
   "execution_count": 3,
   "metadata": {},
   "outputs": [
    {
     "name": "stdout",
     "output_type": "stream",
     "text": [
      "No existe el documento: datos.txt\n"
     ]
    }
   ],
   "source": [
    "archivo = \"datos.txt\"\n",
    "doc = None\n",
    "try:\n",
    "   doc = open(archivo) #intentamos abrir el archivo\n",
    "except IOError: #Si no lo encuentra\n",
    "    print(f\"No existe el documento: {archivo}\") \n",
    "finally:\n",
    "    if doc != None: #Si el archivo se abrió y no se queda como none\n",
    "        doc.close() #Lo cerramos"
   ]
  },
  {
   "cell_type": "markdown",
   "metadata": {},
   "source": [
    "## Ejercicio 3: Conversión de cadenas a enteros\n",
    "\n",
    "Escribe un programa que pida una lista de números separados por comas y convierta cada valor a un número entero. Maneja las excepciones para valores que no sean convertibles y asegúrate de informar si la conversión fue exitosa o no.\n"
   ]
  },
  {
   "cell_type": "code",
   "execution_count": 27,
   "metadata": {},
   "outputs": [
    {
     "name": "stdout",
     "output_type": "stream",
     "text": [
      "3.14 No se puede convertir en un entero\n",
      "23 se ha convertido correctamente a entero\n",
      "Esta es la lista con los valores que se pudieron convertir [23]\n"
     ]
    }
   ],
   "source": [
    "entrada = input(\"Introduzca, múltiples números separados por una coma: \").split(',')\n",
    "conversion = []\n",
    "for dato in entrada:\n",
    "    try:\n",
    "        numerito = int(dato)\n",
    "        conversion.append(numerito)\n",
    "        print(f\"{dato} se ha convertido correctamente a entero\")\n",
    "    except ValueError:\n",
    "        print(f\"{dato} No se puede convertir en un entero\")\n",
    "\n",
    "print(f\"Esta es la lista con los valores que se pudieron convertir {conversion}\")"
   ]
  },
  {
   "cell_type": "markdown",
   "metadata": {},
   "source": [
    "#### Ejercicio 4: Cálculo del promedio con manejo de excepciones\n",
    "\n",
    "Escribe una función que reciba una lista de números y calcule su promedio. Si la lista está vacía, lanza una excepción personalizada y maneja el error adecuadamente.\n"
   ]
  },
  {
   "cell_type": "code",
   "execution_count": 9,
   "metadata": {},
   "outputs": [
    {
     "name": "stdout",
     "output_type": "stream",
     "text": [
      "No puedo convertir hola a un entero, lo salto.\n",
      "El promedio es: 22.0\n"
     ]
    }
   ],
   "source": [
    "def promedio(numeros):\n",
    "    longitud = len(numeros)\n",
    "    suma = 0\n",
    "    if longitud < 1:\n",
    "        print(f\"la lista está vacía!\") \n",
    "    else:\n",
    "        for num in numeros:\n",
    "            try:\n",
    "                entero = int(num)\n",
    "                suma += entero\n",
    "            except:\n",
    "                print(f\"No puedo convertir {num} a un entero, lo salto.\")\n",
    "        \n",
    "        promedio = suma / longitud\n",
    "        print(f\"El promedio es: {promedio}\")\n",
    "\n",
    "promedio([1,10,20,40,60,\"hola\",23])"
   ]
  },
  {
   "cell_type": "markdown",
   "metadata": {},
   "source": [
    "#### Ejercicio 5: Conversión segura de números\n",
    "\n",
    "Escribe un programa que convierta una cadena a número flotante e intente realizar una operación aritmética. Si la conversión falla, maneja la excepción y continúa con el flujo normal."
   ]
  },
  {
   "cell_type": "code",
   "execution_count": 17,
   "metadata": {},
   "outputs": [
    {
     "name": "stdout",
     "output_type": "stream",
     "text": [
      "He convertido 23.0 sin problema\n",
      "le vamos a sumar 30,25 a 23.0, lo que nos va a dar: 53.25\n"
     ]
    }
   ],
   "source": [
    "def conversion_segura(cadena):\n",
    "        try:\n",
    "            conv = float(cadena)\n",
    "            print(f\"He convertido {conv} sin problema\")\n",
    "            suma = conv + 30.25\n",
    "            print(f\"le vamos a sumar 30,25 a {conv}, lo que nos va a dar: {suma}\")\n",
    "        except:\n",
    "            print(f\"No he podido convertir {cadena} a float, sigo.\")\n",
    "conversion_segura(\"23\")"
   ]
  },
  {
   "cell_type": "markdown",
   "metadata": {},
   "source": [
    "#### Ejercicio 6: Acceso a claves en diccionarios\n",
    "\n",
    "Escribe un programa que intente acceder a una clave específica en un diccionario. Si la clave no existe, maneja la excepción `KeyError` y muestra un mensaje indicando el problema."
   ]
  },
  {
   "cell_type": "code",
   "execution_count": 19,
   "metadata": {},
   "outputs": [
    {
     "name": "stdout",
     "output_type": "stream",
     "text": [
      "No tenemos de eso\n"
     ]
    }
   ],
   "source": [
    "vida = {\n",
    "    \"Corazón\" : 1,\n",
    "    \"Pulmones\" : 2,\n",
    "    \"Riñones\" : 2,\n",
    "    \"Vejiga\" : 1,\n",
    "    \"Gemelos\" : 2\n",
    "}\n",
    "quiero = input(\"Busca tu órgano: \")\n",
    "try:\n",
    "    tumor = vida[quiero]\n",
    "    print(f\"Tenemos {tumor}\")\n",
    "except KeyError:\n",
    "    print(f\"No tenemos de eso\")\n",
    "\n"
   ]
  },
  {
   "cell_type": "markdown",
   "metadata": {},
   "source": [
    "\n",
    "#### Ejercicio 7: Verificación de entradas de usuario\n",
    "\n",
    "Escribe un programa que pida al usuario que introduzca su edad. Si el usuario ingresa un valor no numérico o un valor fuera del rango esperado (por ejemplo, menor que 0 o mayor que 120), maneja las excepciones adecuadamente."
   ]
  },
  {
   "cell_type": "code",
   "execution_count": 22,
   "metadata": {},
   "outputs": [
    {
     "name": "stdout",
     "output_type": "stream",
     "text": [
      "Tu edad no es realista jefe\n"
     ]
    }
   ],
   "source": [
    "edad = input(\"Introduce tu edad: \")\n",
    "try:\n",
    "    edad = int(edad)\n",
    "    if 0 <= edad < 120:\n",
    "        print(f\"Tu edad es de: {edad}\")\n",
    "    else:\n",
    "        print(f\"Tu edad no es realista jefe\")\n",
    "except ValueError:\n",
    "    print(\"No has introducido un número.\")"
   ]
  },
  {
   "cell_type": "markdown",
   "metadata": {},
   "source": [
    "#### Ejercicio 8: Extracción de valores de una lista\n",
    "\n",
    "Escribe una función que intente acceder a un índice específico en una lista. Si el índice está fuera del rango, maneja la excepción `IndexError` y muestra un mensaje adecuado.\n"
   ]
  },
  {
   "cell_type": "code",
   "execution_count": 27,
   "metadata": {},
   "outputs": [
    {
     "name": "stdout",
     "output_type": "stream",
     "text": [
      "Has puesto un índice no válido, sólo números enteros\n"
     ]
    }
   ],
   "source": [
    "def acceder_indice(indice):\n",
    "    lista = [1,2,3,4,5,6,7,8,9,10,11,12,13,14,15]\n",
    "    try:\n",
    "        indice = int(indice)\n",
    "        acceder = lista[indice]\n",
    "        print(f\"En el indice {indice} esta el valor {acceder}\")\n",
    "    except IndexError:\n",
    "        print(f\"Has puesto un índice fuera de rango o que no es válido.\")\n",
    "    except ValueError:\n",
    "        print(f\"Has puesto un índice no válido, sólo números enteros\")\n",
    "    \n",
    "num = input(\"Introduce al indice que quieras acceder: \")\n",
    "acceder_indice(num)"
   ]
  }
 ],
 "metadata": {
  "kernelspec": {
   "display_name": "contenido",
   "language": "python",
   "name": "python3"
  },
  "language_info": {
   "codemirror_mode": {
    "name": "ipython",
    "version": 3
   },
   "file_extension": ".py",
   "mimetype": "text/x-python",
   "name": "python",
   "nbconvert_exporter": "python",
   "pygments_lexer": "ipython3",
   "version": "3.11.9"
  }
 },
 "nbformat": 4,
 "nbformat_minor": 2
}
